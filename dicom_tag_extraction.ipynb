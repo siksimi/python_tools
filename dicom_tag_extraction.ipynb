{
 "cells": [
  {
   "cell_type": "code",
   "execution_count": 1,
   "metadata": {},
   "outputs": [],
   "source": [
    "import pydicom, collections, csv, os, itertools\n",
    "\n",
    "def read_tag_row(filename, foldername, filenumber, tags):\n",
    "    ds = pydicom.dcmread(filename)\n",
    "    list_to_return = [None] * (len(tags) + 2)\n",
    "    list_to_return[0] = foldername # 'SCAN_ID = Folder name'\n",
    "    list_to_return[1] = filenumber # '#_SLICE in series'\n",
    "    for i in range(len(tags)):\n",
    "        try:\n",
    "            list_to_return[i+2] = ds[tags[i]][:]\n",
    "        except TypeError:\n",
    "            list_to_return[i+2] = str(ds[tags[i]].value)\n",
    "        except KeyError:\n",
    "            list_to_return[i+2] = ''\n",
    "    return list_to_return"
   ]
  },
  {
   "cell_type": "code",
   "execution_count": 2,
   "metadata": {},
   "outputs": [],
   "source": [
    "base_folder = '/workspace/CT/'\n",
    "tags = [['0008','0070'], ['0008','103E'], ['0008','1090'], ['0010','0040'], ['0010','1010'], ['0018','0050'], ['0018','0060'], ['0018','1151'], ['0018','1210'], \\\n",
    "        ['0028','0010'], ['0028','0011'], ['0028','0030'], ['0018','0010']]\n",
    "tag_names = ['SCAN_ID', '#_SLICE', 'Series Description', 'Manufacturer', ' Manufacturer\\'s Model Name', 'Patient\\'s Sex', 'Patient\\'s Age', 'Slice Thickness', 'KVP', 'X-Ray Tube Current', 'Convolution Kernel', \\\n",
    "             'Rows', 'Columns', 'Pixel Spacing', 'Contrast/Bolus Agent']\n",
    "\n",
    "f = open('output.csv', 'w')\n",
    "wr = csv.writer(f)\n",
    "wr.writerow(tag_names)\n",
    "for dirpath, dirnames, filenames in os.walk(base_folder):\n",
    "    for filename in itertools.islice(sorted([f for f in filenames if f.endswith(\".dcm\")]),1):\n",
    "        file_abs = os.path.join(dirpath, filename)\n",
    "        wr.writerow(read_tag_row(file_abs, os.path.basename(dirpath), len(filenames), tags))\n",
    "f.close()"
   ]
  }
 ],
 "metadata": {
  "kernelspec": {
   "display_name": "Python 3",
   "language": "python",
   "name": "python3"
  },
  "language_info": {
   "codemirror_mode": {
    "name": "ipython",
    "version": 3
   },
   "file_extension": ".py",
   "mimetype": "text/x-python",
   "name": "python",
   "nbconvert_exporter": "python",
   "pygments_lexer": "ipython3",
   "version": "3.7.5"
  }
 },
 "nbformat": 4,
 "nbformat_minor": 4
}
