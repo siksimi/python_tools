{
 "cells": [
  {
   "cell_type": "code",
   "execution_count": 1,
   "metadata": {},
   "outputs": [],
   "source": [
    "import seaborn as sns\n",
    "import numpy as np\n",
    "import pandas as pd\n",
    "import matplotlib.pyplot as plt\n",
    "%matplotlib inline"
   ]
  },
  {
   "cell_type": "code",
   "execution_count": 2,
   "metadata": {},
   "outputs": [],
   "source": [
    "##sample data##\n",
    "Y = [0, 0, 0, 0, 1, 1, 1, 1, 1, 0, 1, 1, 0, 0, 0, 1, 0]  # binary class\n",
    "Rad = [-0.1, -0.4, -0.04, 0.4, 0.51, 0.55, 0.57, 0.6, 0.7, 0.7, 0.81, 1.1, 0.09, 0.21, 0.3, 0.301, 0.32] # Radiomics signature score "
   ]
  },
  {
   "cell_type": "code",
   "execution_count": 3,
   "metadata": {},
   "outputs": [
    {
     "data": {
      "image/png": "[encoded data removed]",
      "text/plain": [
       "<Figure size 504x360 with 1 Axes>"
      ]
     },
     "metadata": {},
     "output_type": "display_data"
    }
   ],
   "source": [
    "sns.set(style=\"whitegrid\")\n",
    "plt.subplots(1, 1, figsize=(7, 5))\n",
    "clrs = ['deepskyblue' if (x == 0) else 'deeppink' for x in Y]\n",
    "df = pd.DataFrame({\"Y\":Y, \"Rad\":Rad, \"clrs\":clrs}).sort_values(by=['Y'], axis=0).sort_values(by=['Rad'], axis=0)\n",
    "sns.barplot(x=np.arange(0, len(Y)), y=df.Rad, palette = df.clrs)\n",
    "plt.xticks([], [])\n",
    "plt.ylabel(\"Radscore\", size=15)\n",
    "plt.ylim(-0.35, 1.25)\n",
    "sns.despine(bottom=True)"
   ]
  },
  {
   "cell_type": "code",
   "execution_count": null,
   "metadata": {},
   "outputs": [],
   "source": []
  }
 ],
 "metadata": {
  "kernelspec": {
   "display_name": "Python 3",
   "language": "python",
   "name": "python3"
  },
  "language_info": {
   "codemirror_mode": {
    "name": "ipython",
    "version": 3
   },
   "file_extension": ".py",
   "mimetype": "text/x-python",
   "name": "python",
   "nbconvert_exporter": "python",
   "pygments_lexer": "ipython3",
   "version": "3.7.5"
  }
 },
 "nbformat": 4,
 "nbformat_minor": 2
}
